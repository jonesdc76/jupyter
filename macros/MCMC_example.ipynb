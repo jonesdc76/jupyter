{
 "cells": [
  {
   "cell_type": "markdown",
   "metadata": {},
   "source": [
    "# This notebook investigates various ways to find best fit parametes for a 2nd degree polynomial fit to quadratic data with noise. Results are compared for an estimate using MCMC, scipy.optimize.curve_fit(), numpy.leastsq() and results using ROOT fitting capabilities "
   ]
  },
  {
   "cell_type": "code",
   "execution_count": 34,
   "metadata": {},
   "outputs": [],
   "source": [
    "import math as ma\n",
    "import numpy as np\n",
    "import scipy as sc\n",
    "import scipy.stats as st\n",
    "import scipy.optimize as opt\n",
    "import matplotlib as mpl\n",
    "import matplotlib.pyplot as plt\n"
   ]
  },
  {
   "cell_type": "code",
   "execution_count": 85,
   "metadata": {},
   "outputs": [],
   "source": [
    "def my_func(x, par):\n",
    "    return par[0]*x**2+par[1]*x+par[2]\n",
    "def my_func2(x, a, b, c):\n",
    "    return a*x**2+b*x+c\n",
    "def chisq(y, yfit, sigma):\n",
    "    return sum(((np.asarray(y)-np.asarray(yfit))/sigma)**2)\n",
    "def ressq(y, yfit):\n",
    "    return sum(((np.asarray(y)-np.asarray(yfit)))**2)"
   ]
  },
  {
   "cell_type": "code",
   "execution_count": 87,
   "metadata": {},
   "outputs": [],
   "source": [
    "par = [2,3,1]\n",
    "rel_err = 0.1\n",
    "y = [my_func(i,par)*(1+np.random.normal(0,rel_err)) for i in range(100)]\n",
    "x = [i for i in range(100)]\n",
    "sigma = [rel_err*y[i] for i in range(100)]\n",
    "f=open(\"curve.dat\",\"w\")\n",
    "for i in range(100):\n",
    "    s = \"%f %f %f %f\\n\" % (x[i], y[i], 0, sigma[i])\n",
    "    #print(s)\n",
    "    f.write(s)\n",
    "f.close()\n",
    "sigma_mat = np.zeros((len(sigma),len(sigma)))\n",
    "for i in x:\n",
    "    sigma_mat[i][i] = sigma[i]\n",
    "#print(sigma)\n"
   ]
  },
  {
   "cell_type": "code",
   "execution_count": 88,
   "metadata": {},
   "outputs": [
    {
     "name": "stdout",
     "output_type": "stream",
     "text": [
      "Input Paramters:  [2, 3, 1]  MCMC estimate:  [1.9625072  3.04695007 1.1475088 ]  Curve fit:  [ 1.91339474  6.44184706 -1.23028786]\n",
      "138.74316826472352   643.2768189767451   143.44365694148578\n"
     ]
    },
    {
     "data": {
      "image/png": "[encoded data removed]",
      "text/plain": [
       "<Figure size 432x288 with 1 Axes>"
      ]
     },
     "metadata": {
      "needs_background": "light"
     },
     "output_type": "display_data"
    }
   ],
   "source": [
    "guess = [1.8,2.9,0.8]\n",
    "yfit = [my_func(i,guess) for i in range(100)]\n",
    "chisquare = chisq(y,yfit, sigma)\n",
    "a = []\n",
    "b = []\n",
    "c = []\n",
    "ch = []\n",
    "xx = []\n",
    "best = []\n",
    "bestchsq = chisq(y,yfit, sigma)\n",
    "for i in range(20000):\n",
    "    pnew = np.asarray(guess) + np.random.normal(0,0.01,3)\n",
    "    ynew = [my_func(i,pnew) for i in range(100)]\n",
    "    chsqnew = chisq(y, ynew, sigma)\n",
    "    uniform = np.random.uniform()\n",
    "    if( uniform < chisquare/chsqnew):\n",
    "        guess = pnew\n",
    "        #print(i,\" \",uniform,\" \",chisquare,\" \",chsqnew,\" \",guess)\n",
    "        chisquare = chsqnew\n",
    "    if(bestchsq>chsqnew):\n",
    "        bestchsq = chsqnew\n",
    "        best = pnew.copy()\n",
    "    a.append(guess[0])  \n",
    "    b.append(guess[1])\n",
    "    c.append(guess[2])\n",
    "    xx.append(i)\n",
    "\n",
    "ynew = [my_func(i,best) for i in range(100)]\n",
    "plt.plot(x,y,'.',label='Data')\n",
    "plt.plot(x,ynew,'-',label='MCMC est.')\n",
    "fit, cov = sc.optimize.curve_fit(my_func2,x, y, sigma = sigma_mat)\n",
    "print(\"Input Paramters: \",par, \" MCMC estimate: \", best, \" Curve fit: \", fit)\n",
    "yfit = [my_func(i,fit) for i in range(100)]\n",
    "plt.plot(x,yfit,'-',label=\"Curve Fit\")\n",
    "yinit = [my_func(i,par) for i in range(100)]\n",
    "print(chisq(y,ynew,sigma),\" \",chisq(y,yfit,sigma),\" \",chisq(y,yinit,sigma))\n",
    "plt.plot(x,yinit,'-',label=\"Input Curve\")\n",
    "plt.legend()\n",
    "plt.show()\n",
    "#plt.plot(xx,a)\n",
    "#plt.show()\n",
    "#plt.plot(xx,b)\n",
    "#plt.show()\n",
    "#plt.plot(xx,c)\n",
    "#plt.show()\n",
    "\n"
   ]
  },
  {
   "cell_type": "markdown",
   "metadata": {},
   "source": [
    "# Now let's try using the numpy leastsq function"
   ]
  },
  {
   "cell_type": "code",
   "execution_count": 92,
   "metadata": {},
   "outputs": [
    {
     "name": "stdout",
     "output_type": "stream",
     "text": [
      "[1.14503731 2.84071444 1.96671683]\n",
      "Input Paramters:  [2, 3, 1]  MCMC estimate:  [1.9625072  3.04695007 1.1475088 ]  Curve fit:  [ 1.91339474  6.44184706 -1.23028786]\n",
      "ChiSquare values  MCMC:  138.74316826472352  curve_fit: 643.2768189767451  leastsq: 138.40491031960514 ROOT:  138.40491031962623\n",
      "ResSquare values  MCMC:  79101418.66509508  curve_fit: 78224721.55759114  leastsq: 79164269.84517129 ROOT:  79164269.73278256\n"
     ]
    }
   ],
   "source": [
    "def residual(params, xdata, ydata, sigma):\n",
    "    \"\"\"Function whose square is to be minimized. \n",
    "    \n",
    "        params: parameters varied to find minimum residual\n",
    "        xdata:  design matrix\n",
    "        ydata:  observed data\n",
    "        sigma:  errors/uncertainty in observed data\n",
    "    \"\"\"\n",
    "    return (ydata-np.dot(xdata, params))/sigma\n",
    "\n",
    "#Design matrix with column vectors [1,x,x*x]\n",
    "xdat = []\n",
    "for i in range(100):\n",
    "    xdat.append(1)\n",
    "    xdat.append(i)\n",
    "    xdat.append(i**2)\n",
    "xdata = np.asarray(xdat)\n",
    "#xdata.shape = (100,3)\n",
    "xdata = np.reshape(xdata,(100,-1))\n",
    "#print(xdata)\n",
    "ydata = np.asarray(y)\n",
    "x0 = np.array([0.0,0.0,0.0])\n",
    "a,g=opt.leastsq(residual,x0,args=(xdata,ydata,sigma), ftol=1.0e-8)\n",
    "print(a)\n",
    "yleastsq = [my_func(i,np.flip(a)) for i in range(100)]\n",
    "print(\"Input Paramters: \",par, \" MCMC estimate: \", best, \" Curve fit: \", fit)\n",
    "\n",
    "#Let's compare the ChiSquare for the output values from MCMC, scipy.optimize.curve_fit(), numpy.leastsq, and ROOT\n",
    "#Need to insert values from ROOT for comparison here.\n",
    "#To obtain values from ROOT open ROOT terminal in this directory and type:\n",
    "#TGraphErrors *gr = new TGraphErrors(\"curve.dat\");TF1 *f = new TF1(\"f\",\"pol2\",0,100); gr->Fit(f);\n",
    "#printf(\"%0.12f, %0.12f, %0.12f\\n\",f->GetParameter(2),f->GetParameter(1),f->GetParameter(0))\n",
    "#and the press Enter. Copy and paste the output into parRoot below.\n",
    "parRoot = (1.966716816883, 2.840714880179, 1.145036803204)\n",
    "yRoot = [my_func(i,parRoot) for i in range(100)]\n",
    "\n",
    "#Interesting! np.leastsq() does equal or better than ROOT, but it doesn't give errors on parameters!\n",
    "print(\"ChiSquare values  MCMC: \",chisq(y,ynew,sigma),\" curve_fit:\",chisq(y,yfit,sigma),\" leastsq:\",chisq(y,yleastsq,sigma),\"ROOT: \",chisq(y,yRoot,sigma))\n",
    "\n",
    "#Sum of squares of residuals is miminimized by scipy.optimize.curve_fit so not surprising it generally beats here!\n",
    "print(\"ResSquare values  MCMC: \",ressq(y,ynew),\" curve_fit:\",ressq(y,yfit),\" leastsq:\",ressq(y,yleastsq),\"ROOT: \",ressq(y,yRoot))"
   ]
  },
  {
   "cell_type": "code",
   "execution_count": null,
   "metadata": {},
   "outputs": [],
   "source": []
  },
  {
   "cell_type": "code",
   "execution_count": null,
   "metadata": {},
   "outputs": [],
   "source": []
  }
 ],
 "metadata": {
  "kernelspec": {
   "display_name": "Python 3",
   "language": "python",
   "name": "python3"
  },
  "language_info": {
   "codemirror_mode": {
    "name": "ipython",
    "version": 3
   },
   "file_extension": ".py",
   "mimetype": "text/x-python",
   "name": "python",
   "nbconvert_exporter": "python",
   "pygments_lexer": "ipython3",
   "version": "3.7.3"
  }
 },
 "nbformat": 4,
 "nbformat_minor": 2
}
